{
  "metadata": {
    "kernelspec": {
      "name": "python",
      "display_name": "Pyolite",
      "language": "python"
    },
    "language_info": {
      "codemirror_mode": {
        "name": "python",
        "version": 3
      },
      "file_extension": ".py",
      "mimetype": "text/x-python",
      "name": "python",
      "nbconvert_exporter": "python",
      "pygments_lexer": "ipython3",
      "version": "3.8"
    }
  },
  "nbformat_minor": 4,
  "nbformat": 4,
  "cells": [
    {
      "cell_type": "markdown",
      "source": "<center>\n    <img src=\"https://s3-api.us-geo.objectstorage.softlayer.net/cf-courses-data/CognitiveClass/Logos/organization_logo/organization_logo.png\" width=\"300\" alt=\"cognitiveclass.ai logo\"  />\n</center>\n",
      "metadata": {}
    },
    {
      "cell_type": "markdown",
      "source": "#### Add your code below following the instructions given in the course\n",
      "metadata": {}
    },
    {
      "cell_type": "markdown",
      "source": "<h1>My Jupyter Notebook on IBM Watson Studio</h1>",
      "metadata": {}
    },
    {
      "cell_type": "markdown",
      "source": "<b>This is my name </b><br/>\nI am a Data Scientist",
      "metadata": {}
    },
    {
      "cell_type": "markdown",
      "source": "<i>I was looking for technologies that suit my abilities and interests. Also, the fancy applications of computer vision and NLP attracted me towards data science.</i>",
      "metadata": {}
    },
    {
      "cell_type": "markdown",
      "source": "<h3>My code in cell 5 is going to add 2 intergers and display the result</h3>",
      "metadata": {}
    },
    {
      "cell_type": "code",
      "source": "print(100 + 30)",
      "metadata": {
        "trusted": true
      },
      "execution_count": 5,
      "outputs": [
        {
          "name": "stdout",
          "text": "130\n",
          "output_type": "stream"
        }
      ]
    },
    {
      "cell_type": "markdown",
      "source": " <html><head><title>Page Title</title></head><body> <table style=\"border:1px solid black;width:100%;  border-collapse: collapse;\n    \"> <tr> <td > <ul> <li><s>Coffee</s></li><li>Tea</li><li>Milk</li></ul> </td></tr><tr> <td> <ol> <li>Coffee</li><li>Tea</li><li>Milk</li></ol> </td></tr><tr> <td> <a href=\"url\">link text</a> </td></tr></table></body></html>",
      "metadata": {}
    },
    {
      "cell_type": "markdown",
      "source": "",
      "metadata": {}
    },
    {
      "cell_type": "code",
      "source": "",
      "metadata": {},
      "execution_count": null,
      "outputs": []
    }
  ]
}